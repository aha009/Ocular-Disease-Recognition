{
 "cells": [
  {
   "cell_type": "code",
   "execution_count": 1,
   "metadata": {
    "executionInfo": {
     "elapsed": 3,
     "status": "ok",
     "timestamp": 1689779926504,
     "user": {
      "displayName": "周芸",
      "userId": "14690280706031972902"
     },
     "user_tz": -60
    },
    "id": "tKqLQh0FdRfM"
   },
   "outputs": [],
   "source": [
    "ROOT = './ODIR-5K-2'"
   ]
  },
  {
   "cell_type": "code",
   "execution_count": 6,
   "metadata": {
    "executionInfo": {
     "elapsed": 7743,
     "status": "ok",
     "timestamp": 1689779934810,
     "user": {
      "displayName": "周芸",
      "userId": "14690280706031972902"
     },
     "user_tz": -60
    },
    "id": "U1bK5PUFdVlr"
   },
   "outputs": [],
   "source": [
    "import numpy as np\n",
    "import torch\n",
    "import torch.nn as nn\n",
    "import torch.nn.functional as F\n",
    "from torchvision.datasets import ImageFolder\n",
    "import torchvision.transforms as transforms\n",
    "import torchvision\n",
    "from sklearn.metrics import roc_auc_score\n",
    "BATCH_SIZE = 32\n",
    "IMG_HEIGHT = 250\n",
    "IMG_WIDTH = 250\n",
    "CLASS_NAMES = ['D', 'N']"
   ]
  },
  {
   "cell_type": "code",
   "execution_count": 7,
   "metadata": {
    "colab": {
     "base_uri": "https://localhost:8080/"
    },
    "executionInfo": {
     "elapsed": 8,
     "status": "ok",
     "timestamp": 1689779951700,
     "user": {
      "displayName": "周芸",
      "userId": "14690280706031972902"
     },
     "user_tz": -60
    },
    "id": "dqOExU3S7H1x",
    "outputId": "d02ba729-6eea-447c-c56d-bd36126e7355"
   },
   "outputs": [
    {
     "data": {
      "text/plain": [
       "device(type='cuda', index=0)"
      ]
     },
     "execution_count": 7,
     "metadata": {},
     "output_type": "execute_result"
    }
   ],
   "source": [
    "device = torch.device(\"cuda:0\" if torch.cuda.is_available() else \"cpu\")\n",
    "device"
   ]
  },
  {
   "cell_type": "code",
   "execution_count": 8,
   "metadata": {
    "executionInfo": {
     "elapsed": 37118,
     "status": "ok",
     "timestamp": 1689779991781,
     "user": {
      "displayName": "周芸",
      "userId": "14690280706031972902"
     },
     "user_tz": -60
    },
    "id": "byfupy_bhKoA"
   },
   "outputs": [],
   "source": [
    "transform = transforms.Compose([\n",
    "    transforms.ToTensor(),\n",
    "    transforms.Normalize((0.4914, 0.4822, 0.4465), (0.2023, 0.1994, 0.2010)),\n",
    "])\n",
    "\n",
    "train_set = ImageFolder(root=ROOT+'/Training_Images/', transform=transform)\n",
    "# validation_set = ImageFolder(root=ROOT+'/Validation_Images/', transform=transform)\n",
    "test_set = ImageFolder(root=ROOT+'/Testing_Images/', transform=transform)"
   ]
  },
  {
   "cell_type": "code",
   "execution_count": 9,
   "metadata": {
    "executionInfo": {
     "elapsed": 334,
     "status": "ok",
     "timestamp": 1689780004626,
     "user": {
      "displayName": "周芸",
      "userId": "14690280706031972902"
     },
     "user_tz": -60
    },
    "id": "nPx3fPvvhbqv"
   },
   "outputs": [],
   "source": [
    "train_loader = torch.utils.data.DataLoader(\n",
    "    train_set,\n",
    "    batch_size = 32,\n",
    "    shuffle = True,\n",
    "    num_workers = 2\n",
    ")\n",
    "\n",
    "# validation_loader = torch.utils.data.DataLoader(\n",
    "#     validation_set,\n",
    "#     batch_size = 16,\n",
    "#     shuffle = False,\n",
    "#     num_workers = 2\n",
    "# )\n",
    "\n",
    "test_loader = torch.utils.data.DataLoader(\n",
    "    test_set,\n",
    "    batch_size = 16,\n",
    "    shuffle = False,\n",
    "    num_workers = 2\n",
    ")"
   ]
  },
  {
   "cell_type": "code",
   "execution_count": 10,
   "metadata": {},
   "outputs": [],
   "source": [
    "def train_model(model, num_epochs, criterion, optimizer, results_path):\n",
    "    model.train()\n",
    "    train_losses = np.zeros(num_epochs)\n",
    "    val_losses = np.zeros(num_epochs)\n",
    "    train_accracy = np.zeros(num_epochs)\n",
    "    val_accracy = np.zeros(num_epochs)\n",
    "\n",
    "    for epoch in range(num_epochs):\n",
    "        # trainning\n",
    "        running_loss = 0.0\n",
    "        n = 0\n",
    "        total=0\n",
    "        correct=0\n",
    "        for images, labels in train_loader:\n",
    "            images, labels = images.to(device), labels.to(device)\n",
    "            optimizer.zero_grad()\n",
    "            outputs = model(images)\n",
    "            loss = criterion(outputs, labels)\n",
    "            loss.backward()\n",
    "            optimizer.step()\n",
    "            running_loss += loss.item()\n",
    "            n += 1\n",
    "            _, predicted = torch.max(outputs.data, 1)\n",
    "            total += labels.size(0)    # add in the number of labels in this minibatch\n",
    "            correct += (predicted == labels).sum().item()  # add in the number of correct labels\n",
    "        train_losses[epoch] = running_loss / n\n",
    "        train_accracy[epoch]=correct/total\n",
    "        # validation\n",
    "#         running_loss = 0.0\n",
    "#         n = 0\n",
    "#         total=0\n",
    "#         correct=0\n",
    "#         with torch.no_grad():\n",
    "#             for images,labels in validation_loader:\n",
    "#                 images, labels = images.to(device), labels.to(device)\n",
    "#                 outputs=model(images)\n",
    "#                 running_loss += criterion(outputs,labels).item()\n",
    "#                 n += 1\n",
    "#                 _, predicted = torch.max(outputs.data, 1)\n",
    "#                 total += labels.size(0)    # add in the number of labels in this minibatch\n",
    "#                 correct += (predicted == labels).sum().item()  # add in the number of correct labels\n",
    "#         val_losses[epoch]=running_loss/n\n",
    "#         val_accracy[epoch]=correct/total\n",
    "\n",
    "        print(f'Epoch [{epoch + 1}/{num_epochs}], training loss: {train_losses[epoch] : .3f} training accuracy: {train_accracy[epoch]: .1%}')\n",
    "\n",
    "    torch.save({\"state_dict\": model.state_dict(), \"train_losses\": train_losses, \"train_accracy\": train_accracy}, results_path)\n"
   ]
  },
  {
   "cell_type": "code",
   "execution_count": 21,
   "metadata": {},
   "outputs": [
    {
     "name": "stdout",
     "output_type": "stream",
     "text": [
      "Epoch [1/20], training loss:  42036195404.031 training accuracy:  50.3%\n",
      "Epoch [2/20], training loss:  7.822 training accuracy:  49.6%\n",
      "Epoch [3/20], training loss:  0.881 training accuracy:  50.2%\n",
      "Epoch [4/20], training loss:  1.079 training accuracy:  50.2%\n",
      "Epoch [5/20], training loss:  0.700 training accuracy:  50.8%\n",
      "Epoch [6/20], training loss:  0.698 training accuracy:  49.5%\n",
      "Epoch [7/20], training loss:  0.697 training accuracy:  50.4%\n",
      "Epoch [8/20], training loss:  0.699 training accuracy:  50.6%\n",
      "Epoch [9/20], training loss:  0.695 training accuracy:  50.1%\n",
      "Epoch [10/20], training loss:  0.695 training accuracy:  50.2%\n",
      "Epoch [11/20], training loss:  0.695 training accuracy:  49.7%\n",
      "Epoch [12/20], training loss:  0.694 training accuracy:  50.9%\n",
      "Epoch [13/20], training loss:  0.694 training accuracy:  50.4%\n",
      "Epoch [14/20], training loss:  0.694 training accuracy:  50.7%\n",
      "Epoch [15/20], training loss:  0.694 training accuracy:  49.6%\n",
      "Epoch [16/20], training loss:  0.694 training accuracy:  50.1%\n",
      "Epoch [17/20], training loss:  0.694 training accuracy:  48.9%\n",
      "Epoch [18/20], training loss:  0.694 training accuracy:  50.8%\n",
      "Epoch [19/20], training loss:  0.693 training accuracy:  51.9%\n",
      "Epoch [20/20], training loss:  0.695 training accuracy:  48.5%\n"
     ]
    }
   ],
   "source": [
    "model_vgg16 = torchvision.models.vgg16(pretrained=False)\n",
    "in_features = model_vgg16.classifier[6].in_features\n",
    "model_vgg16.classifier[6] = nn.Linear(in_features, len(CLASS_NAMES), True)\n",
    "model_vgg16 = model_vgg16.to(device)\n",
    "\n",
    "result_path = ROOT+'/results/model_vgg_binary.pt'    \n",
    "criterion = nn.CrossEntropyLoss().to(device)\n",
    "optimizer = torch.optim.Adam(model_vgg16.parameters(), lr=0.01)\n",
    "num_epochs = 20\n",
    "\n",
    "train_model(model_vgg16, num_epochs, criterion, optimizer, result_path)"
   ]
  },
  {
   "cell_type": "markdown",
   "metadata": {},
   "source": [
    "Define LeNet-5 model."
   ]
  },
  {
   "cell_type": "code",
   "execution_count": 13,
   "metadata": {
    "executionInfo": {
     "elapsed": 335,
     "status": "ok",
     "timestamp": 1689780434308,
     "user": {
      "displayName": "周芸",
      "userId": "14690280706031972902"
     },
     "user_tz": -60
    },
    "id": "fjhPAp0IhWIq"
   },
   "outputs": [],
   "source": [
    "class LeNet5(nn.Module):\n",
    "    def __init__(self):\n",
    "        super(LeNet5, self).__init__()\n",
    "        # 3 input image channels, 6 output channels, 5x5 square convolution kernel\n",
    "        self.conv1 = nn.Conv2d(3, 6, 5)\n",
    "        self.conv2 = nn.Conv2d(6, 16, 5)\n",
    "        self.fc1 = nn.Linear(55696, 120)\n",
    "        self.fc2 = nn.Linear(120, 84)\n",
    "        self.fc3 = nn.Linear(84, len(CLASS_NAMES))\n",
    "\n",
    "    def forward(self, x):\n",
    "        x = F.max_pool2d(F.relu(self.conv1(x)), (2, 2))\n",
    "        x = F.max_pool2d(F.relu(self.conv2(x)), 2)\n",
    "        x = torch.flatten(x, 1)\n",
    "        x = F.relu(self.fc1(x))\n",
    "        x = F.relu(self.fc2(x))\n",
    "        x = self.fc3(x)\n",
    "        return x"
   ]
  },
  {
   "cell_type": "markdown",
   "metadata": {
    "id": "QQfJW-di-MqH"
   },
   "source": [
    "Train LeNet-5 model"
   ]
  },
  {
   "cell_type": "code",
   "execution_count": 25,
   "metadata": {
    "colab": {
     "background_save": true,
     "base_uri": "https://localhost:8080/"
    },
    "id": "PmL28QfkVHts",
    "tags": []
   },
   "outputs": [
    {
     "name": "stdout",
     "output_type": "stream",
     "text": [
      "Epoch [1/20], training loss:  0.978 training accuracy:  49.0%\n",
      "Epoch [2/20], training loss:  0.693 training accuracy:  50.6%\n",
      "Epoch [3/20], training loss:  0.693 training accuracy:  50.8%\n",
      "Epoch [4/20], training loss:  0.694 training accuracy:  50.8%\n",
      "Epoch [5/20], training loss:  0.693 training accuracy:  50.8%\n",
      "Epoch [6/20], training loss:  0.694 training accuracy:  49.0%\n",
      "Epoch [7/20], training loss:  0.694 training accuracy:  49.8%\n",
      "Epoch [8/20], training loss:  0.693 training accuracy:  49.8%\n",
      "Epoch [9/20], training loss:  0.693 training accuracy:  49.7%\n",
      "Epoch [10/20], training loss:  0.694 training accuracy:  50.1%\n",
      "Epoch [11/20], training loss:  0.693 training accuracy:  51.4%\n",
      "Epoch [12/20], training loss:  0.694 training accuracy:  50.8%\n",
      "Epoch [13/20], training loss:  0.693 training accuracy:  50.8%\n",
      "Epoch [14/20], training loss:  0.693 training accuracy:  49.8%\n",
      "Epoch [15/20], training loss:  0.693 training accuracy:  49.7%\n",
      "Epoch [16/20], training loss:  0.693 training accuracy:  50.8%\n",
      "Epoch [17/20], training loss:  0.694 training accuracy:  48.9%\n",
      "Epoch [18/20], training loss:  0.693 training accuracy:  50.8%\n",
      "Epoch [19/20], training loss:  0.693 training accuracy:  50.8%\n",
      "Epoch [20/20], training loss:  0.693 training accuracy:  50.2%\n"
     ]
    }
   ],
   "source": [
    "# 初始化模型、损失函数和优化器\n",
    "model = LeNet5().to(device)\n",
    "criterion = nn.CrossEntropyLoss().to(device)\n",
    "optimizer = torch.optim.Adam(model.parameters(), lr=0.005, weight_decay=0.0001)\n",
    "results_path = ROOT + '/results/LeNet5_BINARY.pt'\n",
    "num_epochs = 20\n",
    "\n",
    "train_model(model, num_epochs, criterion, optimizer, results_path)"
   ]
  },
  {
   "cell_type": "code",
   "execution_count": 31,
   "metadata": {},
   "outputs": [
    {
     "name": "stdout",
     "output_type": "stream",
     "text": [
      "Epoch [1/20], training loss:  0.598 training accuracy:  71.9%\n",
      "Epoch [2/20], training loss:  0.589 training accuracy:  71.5%\n",
      "Epoch [3/20], training loss:  0.511 training accuracy:  74.2%\n",
      "Epoch [4/20], training loss:  0.494 training accuracy:  74.7%\n",
      "Epoch [5/20], training loss:  0.478 training accuracy:  75.2%\n",
      "Epoch [6/20], training loss:  0.476 training accuracy:  75.0%\n",
      "Epoch [7/20], training loss:  0.480 training accuracy:  75.2%\n",
      "Epoch [8/20], training loss:  0.494 training accuracy:  74.2%\n",
      "Epoch [9/20], training loss:  0.474 training accuracy:  75.2%\n",
      "Epoch [10/20], training loss:  0.479 training accuracy:  75.3%\n",
      "Epoch [11/20], training loss:  0.484 training accuracy:  74.9%\n",
      "Epoch [12/20], training loss:  0.471 training accuracy:  75.3%\n",
      "Epoch [13/20], training loss:  0.473 training accuracy:  75.3%\n",
      "Epoch [14/20], training loss:  0.472 training accuracy:  75.2%\n",
      "Epoch [15/20], training loss:  0.468 training accuracy:  75.3%\n",
      "Epoch [16/20], training loss:  0.467 training accuracy:  75.4%\n",
      "Epoch [17/20], training loss:  0.471 training accuracy:  75.1%\n",
      "Epoch [18/20], training loss:  0.478 training accuracy:  75.1%\n",
      "Epoch [19/20], training loss:  0.465 training accuracy:  75.3%\n",
      "Epoch [20/20], training loss:  0.464 training accuracy:  75.4%\n"
     ]
    }
   ],
   "source": [
    "resnet18 = torchvision.models.resnet18(pretrained=False)\n",
    "in_features = resnet18.fc.in_features\n",
    "resnet18.fc = nn.Linear(in_features, len(CLASS_NAMES), True)\n",
    "resnet18 = resnet18.to(device)\n",
    "\n",
    "result_path = ROOT+'/results/model_resnet18_binary.pt'    \n",
    "criterion = nn.CrossEntropyLoss().to(device)\n",
    "optimizer = torch.optim.Adam(resnet18.parameters(), lr=0.01)\n",
    "num_epochs = 20\n",
    "\n",
    "train_model(resnet18, num_epochs, criterion, optimizer, result_path)"
   ]
  },
  {
   "cell_type": "code",
   "execution_count": 15,
   "metadata": {},
   "outputs": [],
   "source": [
    "def test_model(model, path):\n",
    "    d = torch.load(path)\n",
    "    model.load_state_dict(d[\"state_dict\"]) \n",
    "    model = model.to(device)\n",
    "    total = 0\n",
    "    correct = 0\n",
    "    true_positives = 0\n",
    "    false_positives = 0\n",
    "    false_negatives = 0\n",
    "    prob_all = []\n",
    "    label_all = []\n",
    "\n",
    "    with torch.no_grad():\n",
    "        for images, labels in test_loader:\n",
    "            images, labels = images.to(device), labels.to(device)\n",
    "            outputs = model(images)\n",
    "            _, predicted = torch.max(outputs.data, 1)\n",
    "\n",
    "            # Append predicted probabilities and labels to the lists\n",
    "            prob_all.extend(outputs[:, 1].cpu().numpy())\n",
    "            label_all.extend(labels.cpu().numpy())\n",
    "\n",
    "            total += labels.size(0)\n",
    "            correct += (predicted == labels).sum().item()\n",
    "\n",
    "            true_positives += ((predicted == 1) & (labels == 1)).sum().item()\n",
    "            false_positives += ((predicted == 1) & (labels == 0)).sum().item()\n",
    "            false_negatives += ((predicted == 0) & (labels == 1)).sum().item()\n",
    "\n",
    "    accuracy = correct / total\n",
    "    precision = true_positives / (true_positives + false_positives)\n",
    "    recall = true_positives / (true_positives + false_negatives)\n",
    "\n",
    "    # Convert the lists to numpy arrays\n",
    "    label_all = np.array(label_all)\n",
    "    prob_all = np.array(prob_all)\n",
    "\n",
    "    AUC = roc_auc_score(label_all, prob_all)\n",
    "\n",
    "    return accuracy, precision, recall, AUC\n"
   ]
  },
  {
   "cell_type": "code",
   "execution_count": 21,
   "metadata": {},
   "outputs": [
    {
     "name": "stdout",
     "output_type": "stream",
     "text": [
      "leNet5:\n",
      "  accuracy: 0.66\n",
      "  precision: 0.66\n",
      "  recall: 1.00\n",
      "  AUC: 0.50\n"
     ]
    }
   ],
   "source": [
    "results_path = ROOT + '/results/LeNet5_BINARY.pt'\n",
    "model = LeNet5()\n",
    "accuracy, precision, recall, AUC = test_model(model, results_path)\n",
    "\n",
    "print('leNet5:')\n",
    "print('  accuracy: {accuracy:.2f}'.format(accuracy=accuracy))\n",
    "print('  precision: {precision:.2f}'.format(precision=precision))\n",
    "print('  recall: {recall:.2f}'.format(recall=recall))\n",
    "print('  AUC: {AUC:.2f}'.format(AUC=AUC))"
   ]
  },
  {
   "cell_type": "code",
   "execution_count": 23,
   "metadata": {},
   "outputs": [
    {
     "name": "stdout",
     "output_type": "stream",
     "text": [
      "VGG16:\n",
      "  accuracy: 0.54\n",
      "  precision: 0.68\n",
      "  recall: 0.58\n",
      "  AUC: 0.53\n"
     ]
    }
   ],
   "source": [
    "model_vgg16 = torchvision.models.vgg16(pretrained=False)\n",
    "in_features = model_vgg16.classifier[6].in_features\n",
    "model_vgg16.classifier[6] = nn.Linear(in_features, len(CLASS_NAMES), True)\n",
    "\n",
    "results_path = ROOT + '/results/model_vgg_binary.pt'\n",
    "\n",
    "accuracy, precision, recall, AUC = test_model(model_vgg16, results_path)\n",
    "\n",
    "print('VGG16:')\n",
    "print('  accuracy: {accuracy:.2f}'.format(accuracy=accuracy))\n",
    "print('  precision: {precision:.2f}'.format(precision=precision))\n",
    "print('  recall: {recall:.2f}'.format(recall=recall))\n",
    "print('  AUC: {AUC:.2f}'.format(AUC=AUC))"
   ]
  },
  {
   "cell_type": "code",
   "execution_count": 24,
   "metadata": {
    "id": "ut2hTMVrh2Kk"
   },
   "outputs": [
    {
     "name": "stdout",
     "output_type": "stream",
     "text": [
      "ResNet18:\n",
      "  accuracy: 0.56\n",
      "  precision: 0.65\n",
      "  recall: 0.74\n",
      "  AUC: 0.52\n"
     ]
    }
   ],
   "source": [
    "resnet18 = torchvision.models.resnet18(pretrained=False)\n",
    "in_features = resnet18.fc.in_features\n",
    "resnet18.fc = nn.Linear(in_features, len(CLASS_NAMES), True)\n",
    "\n",
    "results_path = ROOT + '/results/model_resnet18_binary.pt'\n",
    "\n",
    "accuracy, precision, recall, AUC = test_model(resnet18, results_path)\n",
    "\n",
    "print('ResNet18:')\n",
    "print('  accuracy: {accuracy:.2f}'.format(accuracy=accuracy))\n",
    "print('  precision: {precision:.2f}'.format(precision=precision))\n",
    "print('  recall: {recall:.2f}'.format(recall=recall))\n",
    "print('  AUC: {AUC:.2f}'.format(AUC=AUC))"
   ]
  },
  {
   "cell_type": "code",
   "execution_count": null,
   "metadata": {
    "id": "F1IvLgyZh2ND"
   },
   "outputs": [],
   "source": []
  },
  {
   "cell_type": "code",
   "execution_count": null,
   "metadata": {
    "id": "xHPTZ3VXh2Pg"
   },
   "outputs": [],
   "source": []
  },
  {
   "cell_type": "code",
   "execution_count": null,
   "metadata": {
    "id": "7-aMxUzah2R8"
   },
   "outputs": [],
   "source": []
  },
  {
   "cell_type": "code",
   "execution_count": null,
   "metadata": {},
   "outputs": [],
   "source": []
  }
 ],
 "metadata": {
  "accelerator": "GPU",
  "colab": {
   "authorship_tag": "ABX9TyMrWMOSuuc929GaHxHnAng/",
   "mount_file_id": "1XhQFJEgmJHw6YcmSf5GN9hVcu6-7HT0b",
   "name": "",
   "version": ""
  },
  "kernelspec": {
   "display_name": "myconda",
   "language": "python",
   "name": "myconda"
  },
  "language_info": {
   "codemirror_mode": {
    "name": "ipython",
    "version": 3
   },
   "file_extension": ".py",
   "mimetype": "text/x-python",
   "name": "python",
   "nbconvert_exporter": "python",
   "pygments_lexer": "ipython3",
   "version": "3.8.12"
  }
 },
 "nbformat": 4,
 "nbformat_minor": 4
}
