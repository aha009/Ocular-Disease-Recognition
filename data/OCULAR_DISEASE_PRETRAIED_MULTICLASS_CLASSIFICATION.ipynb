{
 "cells": [
  {
   "cell_type": "code",
   "execution_count": 1,
   "metadata": {
    "executionInfo": {
     "elapsed": 3,
     "status": "ok",
     "timestamp": 1689779926504,
     "user": {
      "displayName": "周芸",
      "userId": "14690280706031972902"
     },
     "user_tz": -60
    },
    "id": "tKqLQh0FdRfM"
   },
   "outputs": [],
   "source": [
    "ROOT = './ODIR-5K'"
   ]
  },
  {
   "cell_type": "code",
   "execution_count": 2,
   "metadata": {
    "executionInfo": {
     "elapsed": 7743,
     "status": "ok",
     "timestamp": 1689779934810,
     "user": {
      "displayName": "周芸",
      "userId": "14690280706031972902"
     },
     "user_tz": -60
    },
    "id": "U1bK5PUFdVlr"
   },
   "outputs": [],
   "source": [
    "import numpy as np\n",
    "import torch\n",
    "import torch.nn as nn\n",
    "import torch.nn.functional as F\n",
    "from torchvision.datasets import ImageFolder\n",
    "import torchvision.transforms as transforms\n",
    "import torchvision\n",
    "from sklearn.metrics import roc_auc_score\n",
    "import os\n",
    "from PIL import Image\n",
    "import matplotlib.pyplot as plt\n",
    "from natsort import natsorted\n",
    "\n",
    "BATCH_SIZE = 32\n",
    "IMG_HEIGHT = 250\n",
    "IMG_WIDTH = 250\n",
    "CLASS_NAMES = ['N', 'D', 'G', 'C', 'A', 'H', 'M', 'O']\n"
   ]
  },
  {
   "cell_type": "code",
   "execution_count": 3,
   "metadata": {
    "colab": {
     "base_uri": "https://localhost:8080/"
    },
    "executionInfo": {
     "elapsed": 8,
     "status": "ok",
     "timestamp": 1689779951700,
     "user": {
      "displayName": "周芸",
      "userId": "14690280706031972902"
     },
     "user_tz": -60
    },
    "id": "dqOExU3S7H1x",
    "outputId": "d02ba729-6eea-447c-c56d-bd36126e7355"
   },
   "outputs": [
    {
     "data": {
      "text/plain": [
       "device(type='cpu')"
      ]
     },
     "execution_count": 3,
     "metadata": {},
     "output_type": "execute_result"
    }
   ],
   "source": [
    "device = torch.device(\"cuda:0\" if torch.cuda.is_available() else \"cpu\")\n",
    "device"
   ]
  },
  {
   "cell_type": "code",
   "execution_count": 4,
   "metadata": {
    "executionInfo": {
     "elapsed": 37118,
     "status": "ok",
     "timestamp": 1689779991781,
     "user": {
      "displayName": "周芸",
      "userId": "14690280706031972902"
     },
     "user_tz": -60
    },
    "id": "byfupy_bhKoA"
   },
   "outputs": [],
   "source": [
    "transform = transforms.Compose([\n",
    "    transforms.ToTensor(),\n",
    "    transforms.Normalize((0.4914, 0.4822, 0.4465), (0.2023, 0.1994, 0.2010)),\n",
    "])\n",
    "\n",
    "train_set = ImageFolder(root=ROOT+'/Training_Images/', transform=transform)\n",
    "# validation_set = ImageFolder(root=ROOT+'/Validation_Images/', transform=transform)\n",
    "test_set = ImageFolder(root=ROOT+'/Testing_Images/', transform=transform)"
   ]
  },
  {
   "cell_type": "code",
   "execution_count": 8,
   "metadata": {
    "executionInfo": {
     "elapsed": 334,
     "status": "ok",
     "timestamp": 1689780004626,
     "user": {
      "displayName": "周芸",
      "userId": "14690280706031972902"
     },
     "user_tz": -60
    },
    "id": "nPx3fPvvhbqv"
   },
   "outputs": [],
   "source": [
    "train_loader = torch.utils.data.DataLoader(\n",
    "    train_set,\n",
    "    batch_size = 32,\n",
    "    shuffle = True,\n",
    "    num_workers = 2\n",
    ")\n",
    "\n",
    "# validation_loader = torch.utils.data.DataLoader(\n",
    "#     validation_set,\n",
    "#     batch_size = 16,\n",
    "#     shuffle = False,\n",
    "#     num_workers = 2\n",
    "# )\n",
    "\n",
    "test_loader = torch.utils.data.DataLoader(\n",
    "    test_set,\n",
    "    batch_size = 16,\n",
    "    shuffle = False,\n",
    "    num_workers = 2\n",
    ")"
   ]
  },
  {
   "cell_type": "code",
   "execution_count": 10,
   "metadata": {},
   "outputs": [],
   "source": [
    "def train_model(model, num_epochs, criterion, optimizer, results_path):\n",
    "    model.train()\n",
    "    train_losses = np.zeros(num_epochs)\n",
    "    val_losses = np.zeros(num_epochs)\n",
    "    train_accracy = np.zeros(num_epochs)\n",
    "    val_accracy = np.zeros(num_epochs)\n",
    "\n",
    "    for epoch in range(num_epochs):\n",
    "        # trainning\n",
    "        running_loss = 0.0\n",
    "        n = 0\n",
    "        total=0\n",
    "        correct=0\n",
    "        for images, labels in train_loader:\n",
    "            images, labels = images.to(device), labels.to(device)\n",
    "            optimizer.zero_grad()\n",
    "            outputs = model(images)\n",
    "            loss = criterion(outputs, labels)\n",
    "            loss.backward()\n",
    "            optimizer.step()\n",
    "            running_loss += loss.item()\n",
    "            n += 1\n",
    "            _, predicted = torch.max(outputs.data, 1)\n",
    "            total += labels.size(0)    # add in the number of labels in this minibatch\n",
    "            correct += (predicted == labels).sum().item()  # add in the number of correct labels\n",
    "        train_losses[epoch] = running_loss / n\n",
    "        train_accracy[epoch]=correct/total\n",
    "        # validation\n",
    "#         running_loss = 0.0\n",
    "#         n = 0\n",
    "#         total=0\n",
    "#         correct=0\n",
    "#         with torch.no_grad():\n",
    "#             for images,labels in validation_loader:\n",
    "#                 images, labels = images.to(device), labels.to(device)\n",
    "#                 outputs=model(images)\n",
    "#                 running_loss += criterion(outputs,labels).item()\n",
    "#                 n += 1\n",
    "#                 _, predicted = torch.max(outputs.data, 1)\n",
    "#                 total += labels.size(0)    # add in the number of labels in this minibatch\n",
    "#                 correct += (predicted == labels).sum().item()  # add in the number of correct labels\n",
    "#         val_losses[epoch]=running_loss/n\n",
    "#         val_accracy[epoch]=correct/total\n",
    "\n",
    "        print(f'Epoch [{epoch + 1}/{num_epochs}], training loss: {train_losses[epoch] : .3f} training accuracy: {train_accracy[epoch]: .1%}')\n",
    "\n",
    "    torch.save({\"state_dict\": model.state_dict(), \"train_losses\": train_losses, \"train_accracy\": train_accracy}, results_path)\n"
   ]
  },
  {
   "cell_type": "code",
   "execution_count": 10,
   "metadata": {},
   "outputs": [
    {
     "name": "stdout",
     "output_type": "stream",
     "text": [
      "Epoch [1/20], training loss:  12271760.200 training accuracy:  14.4%\n",
      "Epoch [2/20], training loss:  5.081 training accuracy:  15.0%\n",
      "Epoch [3/20], training loss:  3.949 training accuracy:  15.0%\n",
      "Epoch [4/20], training loss:  4.579 training accuracy:  14.8%\n",
      "Epoch [5/20], training loss:  4.304 training accuracy:  15.1%\n",
      "Epoch [6/20], training loss:  22622.371 training accuracy:  14.8%\n",
      "Epoch [7/20], training loss:  11687.409 training accuracy:  14.5%\n",
      "Epoch [8/20], training loss:  144.535 training accuracy:  15.1%\n",
      "Epoch [9/20], training loss:  8.336 training accuracy:  15.1%\n",
      "Epoch [10/20], training loss:  2.720 training accuracy:  15.0%\n",
      "Epoch [11/20], training loss:  3.405 training accuracy:  14.8%\n",
      "Epoch [12/20], training loss:  2.177 training accuracy:  15.0%\n",
      "Epoch [13/20], training loss:  3.386 training accuracy:  14.7%\n",
      "Epoch [14/20], training loss:  3.870 training accuracy:  15.1%\n",
      "Epoch [15/20], training loss:  2.597 training accuracy:  15.2%\n",
      "Epoch [16/20], training loss:  2.145 training accuracy:  15.0%\n",
      "Epoch [17/20], training loss:  2.209 training accuracy:  15.4%\n",
      "Epoch [18/20], training loss:  2.163 training accuracy:  15.0%\n",
      "Epoch [19/20], training loss:  2.192 training accuracy:  15.2%\n",
      "Epoch [20/20], training loss:  2.128 training accuracy:  14.8%\n"
     ]
    }
   ],
   "source": [
    "model_vgg16 = torchvision.models.vgg16(pretrained=True)\n",
    "in_features = model_vgg16.classifier[6].in_features\n",
    "model_vgg16.classifier[6] = nn.Linear(in_features, len(CLASS_NAMES), True)\n",
    "model_vgg16 = model_vgg16.to(device)\n",
    "\n",
    "result_path = ROOT+'/results/model_vgg_pretrained.pt'    \n",
    "criterion = nn.CrossEntropyLoss().to(device)\n",
    "optimizer = torch.optim.Adam(model_vgg16.parameters(), lr=0.01)\n",
    "num_epochs = 20\n",
    "\n",
    "train_model(model_vgg16, num_epochs, criterion, optimizer, result_path)"
   ]
  },
  {
   "cell_type": "code",
   "execution_count": 11,
   "metadata": {},
   "outputs": [
    {
     "name": "stdout",
     "output_type": "stream",
     "text": [
      "Epoch [1/20], training loss:  1.941 training accuracy:  26.0%\n",
      "Epoch [2/20], training loss:  1.650 training accuracy:  35.7%\n",
      "Epoch [3/20], training loss:  1.426 training accuracy:  43.7%\n",
      "Epoch [4/20], training loss:  1.289 training accuracy:  49.4%\n",
      "Epoch [5/20], training loss:  1.232 training accuracy:  51.3%\n",
      "Epoch [6/20], training loss:  1.152 training accuracy:  54.1%\n",
      "Epoch [7/20], training loss:  1.122 training accuracy:  55.7%\n",
      "Epoch [8/20], training loss:  1.042 training accuracy:  58.4%\n",
      "Epoch [9/20], training loss:  0.969 training accuracy:  61.8%\n",
      "Epoch [10/20], training loss:  0.913 training accuracy:  64.2%\n",
      "Epoch [11/20], training loss:  0.849 training accuracy:  67.1%\n",
      "Epoch [12/20], training loss:  0.786 training accuracy:  69.0%\n",
      "Epoch [13/20], training loss:  0.727 training accuracy:  71.1%\n",
      "Epoch [14/20], training loss:  0.671 training accuracy:  73.2%\n",
      "Epoch [15/20], training loss:  0.614 training accuracy:  74.9%\n",
      "Epoch [16/20], training loss:  0.573 training accuracy:  76.5%\n",
      "Epoch [17/20], training loss:  0.532 training accuracy:  78.1%\n",
      "Epoch [18/20], training loss:  0.492 training accuracy:  79.9%\n",
      "Epoch [19/20], training loss:  0.462 training accuracy:  81.2%\n",
      "Epoch [20/20], training loss:  0.425 training accuracy:  81.8%\n"
     ]
    }
   ],
   "source": [
    "resnet18 = torchvision.models.resnet18(pretrained=True)\n",
    "in_features = resnet18.fc.in_features\n",
    "resnet18.fc = nn.Linear(in_features, len(CLASS_NAMES), True)\n",
    "resnet50 = resnet18.to(device)\n",
    "\n",
    "result_path = ROOT+'/results/model_resnet18_pretrained.pt'\n",
    "criterion = nn.CrossEntropyLoss().to(device)\n",
    "optimizer = torch.optim.Adam(resnet18.parameters(), lr=0.01)\n",
    "num_epochs = 20\n",
    "\n",
    "train_model(resnet18, num_epochs, criterion, optimizer, result_path)"
   ]
  },
  {
   "cell_type": "code",
   "execution_count": 15,
   "metadata": {},
   "outputs": [],
   "source": [
    "def test_model(model, path):\n",
    "    d = torch.load(path)\n",
    "    model.load_state_dict(d[\"state_dict\"]) \n",
    "    model = model.to(device)\n",
    "    total = 0\n",
    "    correct = 0\n",
    "    true_positives = 0\n",
    "    false_positives = 0\n",
    "    false_negatives = 0\n",
    "    prob_all = []\n",
    "    label_all = []\n",
    "\n",
    "    with torch.no_grad():\n",
    "        for images, labels in test_loader:\n",
    "            images, labels = images.to(device), labels.to(device)\n",
    "            outputs = model(images)\n",
    "            _, predicted = torch.max(outputs.data, 1)\n",
    "\n",
    "            # Move predicted probabilities and labels to CPU and append to lists\n",
    "            prob_all.extend(outputs.cpu().detach().numpy())\n",
    "            label_all.extend(labels.cpu().numpy())\n",
    "            total += labels.size(0)\n",
    "            correct += (predicted == labels).sum().item()\n",
    "            \n",
    "            true_positives += ((predicted == 1) & (labels == 1)).sum().item()\n",
    "            false_positives += ((predicted == 1) & (labels == 0)).sum().item()\n",
    "            false_negatives += ((predicted == 0) & (labels == 1)).sum().item()\n",
    "\n",
    "    accuracy = correct / total\n",
    "    if (true_positives + false_positives) != 0:\n",
    "        precision = true_positives / (true_positives + false_positives)\n",
    "    else:\n",
    "        precision = 0.0  # or any other suitable value\n",
    "\n",
    "    if (true_positives + false_negatives) != 0:\n",
    "        recall = true_positives / (true_positives + false_negatives)\n",
    "    else:\n",
    "        recall = 0.0  # or any other suitable value\n",
    "\n",
    "\n",
    "    # Convert the lists to numpy arrays\n",
    "    label_all = np.array(label_all)\n",
    "    prob_all = np.array(prob_all)\n",
    "    \n",
    "    prob_all = np.exp(prob_all) / np.sum(np.exp(prob_all), axis=1, keepdims=True)\n",
    "    \n",
    "    label_all = label_all.reshape(-1, 1)  # Reshape label_all to (1800, 1)\n",
    "    prob_all = prob_all.reshape(-1, 8)    # Reshape prob_all to (1800, 8\n",
    "\n",
    "#     AUC = roc_auc_score(label_all, prob_all, multi_class='ovr')\n",
    "    \n",
    "    return accuracy, precision, recall\n"
   ]
  },
  {
   "cell_type": "code",
   "execution_count": 16,
   "metadata": {},
   "outputs": [
    {
     "name": "stdout",
     "output_type": "stream",
     "text": [
      "VGG16:\n",
      "  accuracy: 0.46\n",
      "  precision: 0.00\n",
      "  recall: 0.00\n"
     ]
    }
   ],
   "source": [
    "model_vgg16 = torchvision.models.vgg16(pretrained=False)\n",
    "in_features = model_vgg16.classifier[6].in_features\n",
    "model_vgg16.classifier[6] = nn.Linear(in_features, len(CLASS_NAMES), True)\n",
    "\n",
    "results_path = ROOT + '/results/model_vgg_pretrained.pt'\n",
    "\n",
    "accuracy, precision, recall = test_model(model_vgg16, results_path)\n",
    "\n",
    "print('VGG16:')\n",
    "print('  accuracy: {accuracy:.2f}'.format(accuracy=accuracy))\n",
    "print('  precision: {precision:.2f}'.format(precision=precision))\n",
    "print('  recall: {recall:.2f}'.format(recall=recall))\n",
    "# print('  AUC: {AUC:.2f}'.format(AUC=AUC))"
   ]
  },
  {
   "cell_type": "code",
   "execution_count": 17,
   "metadata": {},
   "outputs": [
    {
     "name": "stdout",
     "output_type": "stream",
     "text": [
      "ResNet18:\n",
      "  accuracy: 0.26\n",
      "  precision: 0.83\n",
      "  recall: 0.71\n"
     ]
    }
   ],
   "source": [
    "resnet18 = torchvision.models.resnet18(pretrained=False)\n",
    "in_features = resnet18.fc.in_features\n",
    "resnet18.fc = nn.Linear(in_features, len(CLASS_NAMES), True)\n",
    "\n",
    "results_path = ROOT + '/results/model_resnet18_pretrained.pt'\n",
    "\n",
    "accuracy, precision, recall = test_model(resnet18, results_path)\n",
    "\n",
    "print('ResNet18:')\n",
    "print('  accuracy: {accuracy:.2f}'.format(accuracy=accuracy))\n",
    "print('  precision: {precision:.2f}'.format(precision=precision))\n",
    "print('  recall: {recall:.2f}'.format(recall=recall))\n",
    "# print('  AUC: {AUC:.2f}'.format(AUC=AUC))"
   ]
  },
  {
   "cell_type": "code",
   "execution_count": null,
   "metadata": {},
   "outputs": [],
   "source": []
  },
  {
   "cell_type": "code",
   "execution_count": null,
   "metadata": {},
   "outputs": [],
   "source": []
  },
  {
   "cell_type": "code",
   "execution_count": null,
   "metadata": {},
   "outputs": [],
   "source": []
  },
  {
   "cell_type": "code",
   "execution_count": null,
   "metadata": {},
   "outputs": [],
   "source": []
  }
 ],
 "metadata": {
  "accelerator": "GPU",
  "colab": {
   "authorship_tag": "ABX9TyMrWMOSuuc929GaHxHnAng/",
   "mount_file_id": "1XhQFJEgmJHw6YcmSf5GN9hVcu6-7HT0b",
   "name": "",
   "version": ""
  },
  "kernelspec": {
   "display_name": "base",
   "language": "python",
   "name": "python3"
  },
  "language_info": {
   "codemirror_mode": {
    "name": "ipython",
    "version": 3
   },
   "file_extension": ".py",
   "mimetype": "text/x-python",
   "name": "python",
   "nbconvert_exporter": "python",
   "pygments_lexer": "ipython3",
   "version": "3.10.9"
  }
 },
 "nbformat": 4,
 "nbformat_minor": 4
}
