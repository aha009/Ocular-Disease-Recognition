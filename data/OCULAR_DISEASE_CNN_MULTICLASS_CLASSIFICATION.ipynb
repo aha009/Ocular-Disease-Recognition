{
 "cells": [
  {
   "cell_type": "code",
   "execution_count": 7,
   "metadata": {
    "executionInfo": {
     "elapsed": 3,
     "status": "ok",
     "timestamp": 1689779926504,
     "user": {
      "displayName": "周芸",
      "userId": "14690280706031972902"
     },
     "user_tz": -60
    },
    "id": "tKqLQh0FdRfM"
   },
   "outputs": [],
   "source": [
    "ROOT = './ODIR-5K'"
   ]
  },
  {
   "cell_type": "code",
   "execution_count": 8,
   "metadata": {
    "executionInfo": {
     "elapsed": 7743,
     "status": "ok",
     "timestamp": 1689779934810,
     "user": {
      "displayName": "周芸",
      "userId": "14690280706031972902"
     },
     "user_tz": -60
    },
    "id": "U1bK5PUFdVlr"
   },
   "outputs": [],
   "source": [
    "import numpy as np\n",
    "import torch\n",
    "import torch.nn as nn\n",
    "import torch.nn.functional as F\n",
    "from torchvision.datasets import ImageFolder\n",
    "import torchvision.transforms as transforms\n",
    "import torchvision\n",
    "\n",
    "BATCH_SIZE = 32\n",
    "IMG_HEIGHT = 250\n",
    "IMG_WIDTH = 250\n",
    "CLASS_NAMES = ['N', 'D', 'G', 'C', 'A', 'H', 'M', 'O']\n"
   ]
  },
  {
   "cell_type": "code",
   "execution_count": 9,
   "metadata": {
    "colab": {
     "base_uri": "https://localhost:8080/"
    },
    "executionInfo": {
     "elapsed": 8,
     "status": "ok",
     "timestamp": 1689779951700,
     "user": {
      "displayName": "周芸",
      "userId": "14690280706031972902"
     },
     "user_tz": -60
    },
    "id": "dqOExU3S7H1x",
    "outputId": "d02ba729-6eea-447c-c56d-bd36126e7355"
   },
   "outputs": [
    {
     "data": {
      "text/plain": [
       "device(type='cpu')"
      ]
     },
     "execution_count": 9,
     "metadata": {},
     "output_type": "execute_result"
    }
   ],
   "source": [
    "device = torch.device(\"cuda:0\" if torch.cuda.is_available() else \"cpu\")\n",
    "device"
   ]
  },
  {
   "cell_type": "code",
   "execution_count": 10,
   "metadata": {
    "executionInfo": {
     "elapsed": 37118,
     "status": "ok",
     "timestamp": 1689779991781,
     "user": {
      "displayName": "周芸",
      "userId": "14690280706031972902"
     },
     "user_tz": -60
    },
    "id": "byfupy_bhKoA"
   },
   "outputs": [],
   "source": [
    "transform = transforms.Compose([\n",
    "    transforms.ToTensor(),\n",
    "    transforms.Normalize((0.4914, 0.4822, 0.4465), (0.2023, 0.1994, 0.2010)),\n",
    "])\n",
    "\n",
    "train_set = ImageFolder(root=ROOT+'/Training_Images/', transform=transform)\n",
    "# validation_set = ImageFolder(root=ROOT+'/Validation_Images/', transform=transform)\n",
    "testing_set = ImageFolder(root=ROOT+'/Testing_Images/', transform=transform)"
   ]
  },
  {
   "cell_type": "code",
   "execution_count": 11,
   "metadata": {
    "executionInfo": {
     "elapsed": 334,
     "status": "ok",
     "timestamp": 1689780004626,
     "user": {
      "displayName": "周芸",
      "userId": "14690280706031972902"
     },
     "user_tz": -60
    },
    "id": "nPx3fPvvhbqv"
   },
   "outputs": [],
   "source": [
    "train_loader = torch.utils.data.DataLoader(\n",
    "    train_set,\n",
    "    batch_size = 32,\n",
    "    shuffle = True,\n",
    "    num_workers = 2\n",
    ")\n",
    "\n",
    "# validation_loader = torch.utils.data.DataLoader(\n",
    "#     validation_set,\n",
    "#     batch_size = 16,\n",
    "#     shuffle = False,\n",
    "#     num_workers = 2\n",
    "# )\n",
    "\n",
    "test_loader = torch.utils.data.DataLoader(\n",
    "    testing_set,\n",
    "    batch_size = 16,\n",
    "    shuffle = False,\n",
    "    num_workers = 2\n",
    ")"
   ]
  },
  {
   "cell_type": "code",
   "execution_count": 6,
   "metadata": {},
   "outputs": [],
   "source": [
    "def train_model(model, num_epochs, criterion, optimizer, results_path):\n",
    "    model.train()\n",
    "    train_losses = np.zeros(num_epochs)\n",
    "    val_losses = np.zeros(num_epochs)\n",
    "    train_accracy = np.zeros(num_epochs)\n",
    "    val_accracy = np.zeros(num_epochs)\n",
    "\n",
    "    for epoch in range(num_epochs):\n",
    "        # trainning\n",
    "        running_loss = 0.0\n",
    "        n = 0\n",
    "        total=0\n",
    "        correct=0\n",
    "        for images, labels in train_loader:\n",
    "            images, labels = images.to(device), labels.to(device)\n",
    "            optimizer.zero_grad()\n",
    "            outputs = model(images)\n",
    "            loss = criterion(outputs, labels)\n",
    "            loss.backward()\n",
    "            optimizer.step()\n",
    "            running_loss += loss.item()\n",
    "            n += 1\n",
    "            _, predicted = torch.max(outputs.data, 1)\n",
    "            total += labels.size(0)    # add in the number of labels in this minibatch\n",
    "            correct += (predicted == labels).sum().item()  # add in the number of correct labels\n",
    "        train_losses[epoch] = running_loss / n\n",
    "        train_accracy[epoch]=correct/total\n",
    "        # validation\n",
    "#         running_loss = 0.0\n",
    "#         n = 0\n",
    "#         total=0\n",
    "#         correct=0\n",
    "#         with torch.no_grad():\n",
    "#             for images,labels in validation_loader:\n",
    "#                 images, labels = images.to(device), labels.to(device)\n",
    "#                 outputs=model(images)\n",
    "#                 running_loss += criterion(outputs,labels).item()\n",
    "#                 n += 1\n",
    "#                 _, predicted = torch.max(outputs.data, 1)\n",
    "#                 total += labels.size(0)    # add in the number of labels in this minibatch\n",
    "#                 correct += (predicted == labels).sum().item()  # add in the number of correct labels\n",
    "#         val_losses[epoch]=running_loss/n\n",
    "#         val_accracy[epoch]=correct/total\n",
    "\n",
    "        print(f'Epoch [{epoch + 1}/{num_epochs}], training loss: {train_losses[epoch] : .3f} training accuracy: {train_accracy[epoch]: .1%}')\n",
    "\n",
    "    torch.save({\"state_dict\": model.state_dict(), \"train_losses\": train_losses, \"train_accracy\": train_accracy}, results_path)\n"
   ]
  },
  {
   "cell_type": "code",
   "execution_count": 5,
   "metadata": {},
   "outputs": [],
   "source": [
    "class LeNet5(nn.Module):\n",
    "\n",
    "    def __init__(self):\n",
    "        super(LeNet5, self).__init__()\n",
    "        # 3 input image channels, 6 output channels, 5x5 square convolution kernel\n",
    "        self.conv1 = nn.Conv2d(3, 6, 5)\n",
    "        self.conv2 = nn.Conv2d(6, 16, 5)\n",
    "        self.fc1 = nn.Linear(55696, 120)\n",
    "        self.fc2 = nn.Linear(120, 84)\n",
    "        self.fc3 = nn.Linear(84, len(CLASS_NAMES))\n",
    "\n",
    "    def forward(self, x):\n",
    "        x = F.max_pool2d(F.relu(self.conv1(x)), (2, 2))\n",
    "        x = F.max_pool2d(F.relu(self.conv2(x)), 2)\n",
    "        x = torch.flatten(x, 1)\n",
    "        x = F.relu(self.fc1(x))\n",
    "        x = F.relu(self.fc2(x))\n",
    "        x = self.fc3(x)\n",
    "        return x"
   ]
  },
  {
   "cell_type": "code",
   "execution_count": 11,
   "metadata": {},
   "outputs": [
    {
     "name": "stdout",
     "output_type": "stream",
     "text": [
      "Epoch [1/20], training loss:  1.519 training accuracy:  40.4%\n",
      "Epoch [2/20], training loss:  1.201 training accuracy:  53.0%\n",
      "Epoch [3/20], training loss:  0.961 training accuracy:  61.7%\n",
      "Epoch [4/20], training loss:  0.783 training accuracy:  68.6%\n",
      "Epoch [5/20], training loss:  0.646 training accuracy:  73.5%\n",
      "Epoch [6/20], training loss:  0.554 training accuracy:  77.4%\n",
      "Epoch [7/20], training loss:  0.517 training accuracy:  79.0%\n",
      "Epoch [8/20], training loss:  0.433 training accuracy:  82.3%\n",
      "Epoch [9/20], training loss:  0.360 training accuracy:  85.3%\n",
      "Epoch [10/20], training loss:  0.318 training accuracy:  87.6%\n",
      "Epoch [11/20], training loss:  0.278 training accuracy:  89.2%\n",
      "Epoch [12/20], training loss:  0.214 training accuracy:  92.0%\n",
      "Epoch [13/20], training loss:  0.196 training accuracy:  93.2%\n",
      "Epoch [14/20], training loss:  0.133 training accuracy:  95.6%\n",
      "Epoch [15/20], training loss:  0.125 training accuracy:  95.7%\n",
      "Epoch [16/20], training loss:  0.114 training accuracy:  96.2%\n",
      "Epoch [17/20], training loss:  0.088 training accuracy:  97.2%\n",
      "Epoch [18/20], training loss:  0.112 training accuracy:  96.3%\n",
      "Epoch [19/20], training loss:  0.082 training accuracy:  97.2%\n",
      "Epoch [20/20], training loss:  0.079 training accuracy:  97.4%\n"
     ]
    }
   ],
   "source": [
    "# 初始化模型、损失函数和优化器\n",
    "lenet = LeNet5().to(device)\n",
    "criterion = nn.CrossEntropyLoss().to(device)\n",
    "optimizer = torch.optim.Adam(lenet.parameters(), lr=0.001, weight_decay=0.0001)\n",
    "results_path = ROOT + '/results/LeNet5_multiple.pt'\n",
    "num_epochs = 20\n",
    "\n",
    "train_model(lenet, num_epochs, criterion, optimizer, results_path)"
   ]
  },
  {
   "cell_type": "code",
   "execution_count": 9,
   "metadata": {},
   "outputs": [
    {
     "name": "stdout",
     "output_type": "stream",
     "text": [
      "Epoch [1/20], training loss:  239627274.101 training accuracy:  14.1%\n",
      "Epoch [2/20], training loss:  2.259 training accuracy:  15.1%\n",
      "Epoch [3/20], training loss:  2.350 training accuracy:  14.6%\n",
      "Epoch [4/20], training loss:  2.185 training accuracy:  15.0%\n",
      "Epoch [5/20], training loss:  2.101 training accuracy:  14.8%\n",
      "Epoch [6/20], training loss:  4.555 training accuracy:  15.0%\n",
      "Epoch [7/20], training loss:  2.149 training accuracy:  15.1%\n",
      "Epoch [8/20], training loss:  2.102 training accuracy:  15.2%\n",
      "Epoch [9/20], training loss:  2.094 training accuracy:  15.2%\n",
      "Epoch [10/20], training loss:  2.085 training accuracy:  15.3%\n",
      "Epoch [11/20], training loss:  2.086 training accuracy:  15.4%\n",
      "Epoch [12/20], training loss:  2.088 training accuracy:  15.1%\n",
      "Epoch [13/20], training loss:  2.082 training accuracy:  15.2%\n",
      "Epoch [14/20], training loss:  2.091 training accuracy:  15.0%\n",
      "Epoch [15/20], training loss:  2.075 training accuracy:  15.3%\n",
      "Epoch [16/20], training loss:  2.076 training accuracy:  15.1%\n",
      "Epoch [17/20], training loss:  2.075 training accuracy:  15.4%\n",
      "Epoch [18/20], training loss:  2.160 training accuracy:  15.1%\n",
      "Epoch [19/20], training loss:  1653.875 training accuracy:  15.3%\n",
      "Epoch [20/20], training loss:  2.325 training accuracy:  14.8%\n"
     ]
    }
   ],
   "source": [
    "model_vgg16 = torchvision.models.vgg16(pretrained=False)\n",
    "in_features = model_vgg16.classifier[6].in_features\n",
    "model_vgg16.classifier[6] = nn.Linear(in_features, len(CLASS_NAMES), True)\n",
    "model_vgg16 = model_vgg16.to(device)\n",
    "\n",
    "result_path = ROOT+'/results/model_vgg_multiclass.pt'    \n",
    "criterion = nn.CrossEntropyLoss().to(device)\n",
    "optimizer = torch.optim.Adam(model_vgg16.parameters(), lr=0.01)\n",
    "num_epochs = 20\n",
    "\n",
    "train_model(model_vgg16, num_epochs, criterion, optimizer, result_path)"
   ]
  },
  {
   "cell_type": "code",
   "execution_count": 10,
   "metadata": {},
   "outputs": [
    {
     "name": "stdout",
     "output_type": "stream",
     "text": [
      "Epoch [1/20], training loss:  1.783 training accuracy:  29.8%\n",
      "Epoch [2/20], training loss:  1.487 training accuracy:  41.6%\n",
      "Epoch [3/20], training loss:  1.292 training accuracy:  48.5%\n",
      "Epoch [4/20], training loss:  1.155 training accuracy:  53.9%\n",
      "Epoch [5/20], training loss:  1.046 training accuracy:  58.4%\n",
      "Epoch [6/20], training loss:  0.939 training accuracy:  63.2%\n",
      "Epoch [7/20], training loss:  0.843 training accuracy:  66.9%\n",
      "Epoch [8/20], training loss:  0.725 training accuracy:  71.8%\n",
      "Epoch [9/20], training loss:  0.639 training accuracy:  74.6%\n",
      "Epoch [10/20], training loss:  0.545 training accuracy:  78.0%\n",
      "Epoch [11/20], training loss:  0.482 training accuracy:  80.2%\n",
      "Epoch [12/20], training loss:  0.441 training accuracy:  81.9%\n",
      "Epoch [13/20], training loss:  0.375 training accuracy:  84.4%\n",
      "Epoch [14/20], training loss:  0.331 training accuracy:  86.8%\n",
      "Epoch [15/20], training loss:  0.278 training accuracy:  89.3%\n",
      "Epoch [16/20], training loss:  0.200 training accuracy:  92.3%\n",
      "Epoch [17/20], training loss:  0.171 training accuracy:  93.7%\n",
      "Epoch [18/20], training loss:  0.118 training accuracy:  95.7%\n",
      "Epoch [19/20], training loss:  0.104 training accuracy:  96.4%\n",
      "Epoch [20/20], training loss:  0.068 training accuracy:  97.6%\n"
     ]
    }
   ],
   "source": [
    "resnet18 = torchvision.models.resnet18(pretrained=False)\n",
    "in_features = resnet18.fc.in_features\n",
    "resnet18.fc = nn.Linear(in_features, len(CLASS_NAMES), True)\n",
    "resnet50 = resnet18.to(device)\n",
    "\n",
    "result_path = ROOT+'/results/model_resnet18_multiclass.pt'\n",
    "criterion = nn.CrossEntropyLoss().to(device)\n",
    "optimizer = torch.optim.Adam(resnet18.parameters(), lr=0.01)\n",
    "num_epochs = 20\n",
    "\n",
    "train_model(resnet18, num_epochs, criterion, optimizer, result_path)"
   ]
  },
  {
   "cell_type": "code",
   "execution_count": 94,
   "metadata": {},
   "outputs": [],
   "source": [
    "def test_model(model, path):\n",
    "    d = torch.load(path)\n",
    "    model.load_state_dict(d[\"state_dict\"]) \n",
    "    model = model.to(device)\n",
    "    total = 0\n",
    "    correct = 0\n",
    "    true_positives = 0\n",
    "    false_positives = 0\n",
    "    false_negatives = 0\n",
    "    prob_all = []\n",
    "    label_all = []\n",
    "\n",
    "    with torch.no_grad():\n",
    "        for images, labels in test_loader:\n",
    "            images, labels = images.to(device), labels.to(device)\n",
    "            outputs = model(images)\n",
    "            _, predicted = torch.max(outputs.data, 1)\n",
    "\n",
    "            # Move predicted probabilities and labels to CPU and append to lists\n",
    "            prob_all.extend(outputs.cpu().detach().numpy())\n",
    "            label_all.extend(labels.cpu().numpy())\n",
    "            total += labels.size(0)\n",
    "            correct += (predicted == labels).sum().item()\n",
    "            \n",
    "            true_positives += ((predicted == 1) & (labels == 1)).sum().item()\n",
    "            false_positives += ((predicted == 1) & (labels == 0)).sum().item()\n",
    "            false_negatives += ((predicted == 0) & (labels == 1)).sum().item()\n",
    "\n",
    "    accuracy = correct / total\n",
    "    if (true_positives + false_positives) != 0:\n",
    "        precision = true_positives / (true_positives + false_positives)\n",
    "    else:\n",
    "        precision = 0.0  # or any other suitable value\n",
    "\n",
    "    if (true_positives + false_negatives) != 0:\n",
    "        recall = true_positives / (true_positives + false_negatives)\n",
    "    else:\n",
    "        recall = 0.0  # or any other suitable value\n",
    "\n",
    "\n",
    "    # Convert the lists to numpy arrays\n",
    "    label_all = np.array(label_all)\n",
    "    prob_all = np.array(prob_all)\n",
    "    \n",
    "    prob_all = np.exp(prob_all) / np.sum(np.exp(prob_all), axis=1, keepdims=True)\n",
    "    \n",
    "    label_all = label_all.reshape(-1, 1)  # Reshape label_all to (1800, 1)\n",
    "    prob_all = prob_all.reshape(-1, 8)    # Reshape prob_all to (1800, 8\n",
    "\n",
    "#     AUC = roc_auc_score(label_all, prob_all, multi_class='ovr')\n",
    "    \n",
    "    return accuracy, precision, recall\n"
   ]
  },
  {
   "cell_type": "code",
   "execution_count": 91,
   "metadata": {},
   "outputs": [
    {
     "name": "stdout",
     "output_type": "stream",
     "text": [
      "leNet5:\n",
      "  accuracy: 0.38\n",
      "  precision: 0.98\n",
      "  recall: 1.00\n",
      "  AUC: 0.71\n"
     ]
    }
   ],
   "source": [
    "results_path = ROOT + '/results/LeNet5_multiple.pt'\n",
    "model = LeNet5()\n",
    "accuracy, precision, recall = test_model(model, results_path)\n",
    "\n",
    "print('leNet5:')\n",
    "print('  accuracy: {accuracy:.2f}'.format(accuracy=accuracy))\n",
    "print('  precision: {precision:.2f}'.format(precision=precision))\n",
    "print('  recall: {recall:.2f}'.format(recall=recall))\n",
    "# print('  AUC: {AUC:.2f}'.format(AUC=AUC))"
   ]
  },
  {
   "cell_type": "code",
   "execution_count": 95,
   "metadata": {
    "id": "3uZf_97Qh143"
   },
   "outputs": [
    {
     "name": "stdout",
     "output_type": "stream",
     "text": [
      "VGG16:\n",
      "  accuracy: 0.46\n",
      "  precision: 0.00\n",
      "  recall: 0.00\n"
     ]
    }
   ],
   "source": [
    "model_vgg16 = torchvision.models.vgg16(pretrained=False)\n",
    "in_features = model_vgg16.classifier[6].in_features\n",
    "model_vgg16.classifier[6] = nn.Linear(in_features, len(CLASS_NAMES), True)\n",
    "\n",
    "results_path = ROOT + '/results/model_vgg_multiclass.pt'\n",
    "\n",
    "accuracy, precision, recall = test_model(model_vgg16, results_path)\n",
    "\n",
    "print('VGG16:')\n",
    "print('  accuracy: {accuracy:.2f}'.format(accuracy=accuracy))\n",
    "print('  precision: {precision:.2f}'.format(precision=precision))\n",
    "print('  recall: {recall:.2f}'.format(recall=recall))\n",
    "# print('  AUC: {AUC:.2f}'.format(AUC=AUC))"
   ]
  },
  {
   "cell_type": "code",
   "execution_count": 96,
   "metadata": {
    "id": "GVg-NaUFh17b"
   },
   "outputs": [
    {
     "name": "stdout",
     "output_type": "stream",
     "text": [
      "ResNet18:\n",
      "  accuracy: 0.26\n",
      "  precision: 0.96\n",
      "  recall: 0.81\n"
     ]
    }
   ],
   "source": [
    "resnet18 = torchvision.models.resnet18(pretrained=False)\n",
    "in_features = resnet18.fc.in_features\n",
    "resnet18.fc = nn.Linear(in_features, len(CLASS_NAMES), True)\n",
    "\n",
    "results_path = ROOT + '/results/model_resnet18_multiclass.pt'\n",
    "\n",
    "accuracy, precision, recall = test_model(resnet18, results_path)\n",
    "\n",
    "print('ResNet18:')\n",
    "print('  accuracy: {accuracy:.2f}'.format(accuracy=accuracy))\n",
    "print('  precision: {precision:.2f}'.format(precision=precision))\n",
    "print('  recall: {recall:.2f}'.format(recall=recall))\n",
    "# print('  AUC: {AUC:.2f}'.format(AUC=AUC))"
   ]
  },
  {
   "cell_type": "code",
   "execution_count": null,
   "metadata": {
    "id": "qP0ZIl5Ph19w"
   },
   "outputs": [],
   "source": []
  },
  {
   "cell_type": "code",
   "execution_count": null,
   "metadata": {
    "id": "ER6xzaygh2AN"
   },
   "outputs": [],
   "source": []
  },
  {
   "cell_type": "code",
   "execution_count": null,
   "metadata": {
    "id": "AXovpewlh2C-"
   },
   "outputs": [],
   "source": []
  },
  {
   "cell_type": "code",
   "execution_count": null,
   "metadata": {
    "id": "AeFlIHXWh2Fb"
   },
   "outputs": [],
   "source": []
  },
  {
   "cell_type": "code",
   "execution_count": null,
   "metadata": {
    "id": "eWKhz1pvh2H-"
   },
   "outputs": [],
   "source": []
  },
  {
   "cell_type": "code",
   "execution_count": null,
   "metadata": {
    "id": "ut2hTMVrh2Kk"
   },
   "outputs": [],
   "source": []
  },
  {
   "cell_type": "code",
   "execution_count": null,
   "metadata": {
    "id": "F1IvLgyZh2ND"
   },
   "outputs": [],
   "source": []
  },
  {
   "cell_type": "code",
   "execution_count": null,
   "metadata": {
    "id": "xHPTZ3VXh2Pg"
   },
   "outputs": [],
   "source": []
  },
  {
   "cell_type": "code",
   "execution_count": null,
   "metadata": {
    "id": "7-aMxUzah2R8"
   },
   "outputs": [],
   "source": []
  },
  {
   "cell_type": "code",
   "execution_count": null,
   "metadata": {
    "id": "_2vFDk3Ch2VM"
   },
   "outputs": [],
   "source": []
  }
 ],
 "metadata": {
  "accelerator": "GPU",
  "colab": {
   "authorship_tag": "ABX9TyMrWMOSuuc929GaHxHnAng/",
   "mount_file_id": "1XhQFJEgmJHw6YcmSf5GN9hVcu6-7HT0b",
   "name": "",
   "version": ""
  },
  "kernelspec": {
   "display_name": "base",
   "language": "python",
   "name": "python3"
  },
  "language_info": {
   "codemirror_mode": {
    "name": "ipython",
    "version": 3
   },
   "file_extension": ".py",
   "mimetype": "text/x-python",
   "name": "python",
   "nbconvert_exporter": "python",
   "pygments_lexer": "ipython3",
   "version": "3.10.9"
  }
 },
 "nbformat": 4,
 "nbformat_minor": 4
}
